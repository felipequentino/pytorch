{
 "cells": [
  {
   "cell_type": "markdown",
   "id": "c41bf6d8-1b3d-4f31-8dce-f780dfc39f9f",
   "metadata": {},
   "source": [
    "# Pipeline\n",
    "\n",
    "### 1) Design model (input, output size, forward pass)\n",
    "### 2) Construct loss and optimizer\n",
    "### 3) Training loop\n",
    "- forward pass: compute prediction\n",
    "- backward pass: gradients\n",
    "- update weights"
   ]
  },
  {
   "cell_type": "code",
   "execution_count": 16,
   "id": "495e26d8-e5f2-4454-84e3-8546aa3a19e7",
   "metadata": {},
   "outputs": [],
   "source": [
    "import torch\n",
    "import torch.nn as nn"
   ]
  },
  {
   "cell_type": "code",
   "execution_count": 17,
   "id": "d1265f35-12c8-46a0-b606-8d53349e2a58",
   "metadata": {},
   "outputs": [],
   "source": [
    "class LinearRegression(nn.Module):\n",
    "\n",
    "    def __init__(self, input_dim, output_dim):\n",
    "        super(LinearRegression, self).__init__()\n",
    "        # define layers\n",
    "        self.lin = nn.Linear(input_dim, output_dim)\n",
    "\n",
    "    def  forward(self, x):\n",
    "        return self.lin(x)"
   ]
  },
  {
   "cell_type": "code",
   "execution_count": 18,
   "id": "cec18bab-0b42-46aa-8683-b3f1d10af7d1",
   "metadata": {},
   "outputs": [
    {
     "name": "stdout",
     "output_type": "stream",
     "text": [
      "prediction before training: f(5) = -3.6174449920654297:.3f\n",
      "epoch 1: w = -0.531, loss = 50.57500458\n",
      "epoch 11: w = 1.107, loss = 1.78746343\n",
      "epoch 21: w = 1.385, loss = 0.49733484\n",
      "epoch 31: w = 1.444, loss = 0.43770042\n",
      "epoch 41: w = 1.466, loss = 0.41143003\n",
      "epoch 51: w = 1.483, loss = 0.38746214\n",
      "epoch 61: w = 1.499, loss = 0.36490917\n",
      "epoch 71: w = 1.514, loss = 0.34366968\n",
      "epoch 81: w = 1.528, loss = 0.32366633\n",
      "epoch 91: w = 1.542, loss = 0.30482733\n",
      "Prediction after training: f(5) = 9.081\n"
     ]
    }
   ],
   "source": [
    "X = torch.tensor([[1],[2],[3],[4]], dtype=torch.float32)\n",
    "Y = torch.tensor([[2],[4],[6],[8]], dtype=torch.float32)\n",
    "\n",
    "X_test = torch.tensor([5], dtype=torch.float32)\n",
    "n_samples, n_features = X.shape\n",
    "# w = torch.tensor(0.0, dtype=torch.float32, requires_grad=True)\n",
    "# we dont need define the weights manually anymore\n",
    "\n",
    "input_size = n_features\n",
    "output_size = n_features\n",
    "\n",
    "#model = nn.Linear(input_size, output_size)\n",
    "model = LinearRegression(input_size, output_size)\n",
    "\n",
    "# model prediction\n",
    "def forward(x):\n",
    "    return w * x\n",
    " \n",
    "# We dont need to define a function for loss, just use nn.MSELoss()\n",
    "\n",
    "print(f'prediction before training: f(5) = {model(X_test).item()}:.3f')\n",
    "\n",
    "# Training\n",
    "learning_rate = 0.01\n",
    "n_iters = 100\n",
    "\n",
    "# We dont need to define a function for loss, just use nn.MSELoss()\n",
    "loss = nn.MSELoss()\n",
    "optimizer = torch.optim.SGD(model.parameters(), lr=learning_rate)\n",
    "\n",
    "for epoch in range(n_iters):\n",
    "    # prediction = forward pass\n",
    "    y_pred = model(X)\n",
    "\n",
    "    # loss\n",
    "    l = loss(Y, y_pred)\n",
    "\n",
    "    # gradients = backward pass\n",
    "    l.backward() # dl/dw\n",
    "\n",
    "    # update weights\n",
    "    optimizer.step()\n",
    "\n",
    "    # zero gradients\n",
    "    optimizer.zero_grad()\n",
    "\n",
    "    if epoch % 10 == 0:\n",
    "        # unpacking\n",
    "        [w, b] = model.parameters()\n",
    "        print(f'epoch {epoch+1}: w = {w[0][0].item():.3f}, loss = {l:.8f}')\n",
    "\n",
    "print(f'Prediction after training: f(5) = {model(X_test).item():.3f}')"
   ]
  }
 ],
 "metadata": {
  "kernelspec": {
   "display_name": "Python 3 (ipykernel)",
   "language": "python",
   "name": "python3"
  },
  "language_info": {
   "codemirror_mode": {
    "name": "ipython",
    "version": 3
   },
   "file_extension": ".py",
   "mimetype": "text/x-python",
   "name": "python",
   "nbconvert_exporter": "python",
   "pygments_lexer": "ipython3",
   "version": "3.10.14"
  }
 },
 "nbformat": 4,
 "nbformat_minor": 5
}
