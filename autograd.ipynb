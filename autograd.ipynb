{
 "cells": [
  {
   "cell_type": "code",
   "execution_count": 1,
   "id": "ec4b6d7d-a7f3-40c3-8919-73879fdcbda3",
   "metadata": {},
   "outputs": [],
   "source": [
    "%config IPCompleter.greedy=True"
   ]
  },
  {
   "cell_type": "code",
   "execution_count": 4,
   "id": "ba8d6336-2191-4aca-80ca-e9a05773fb1d",
   "metadata": {},
   "outputs": [],
   "source": [
    "import torch\n",
    "import numpy as np"
   ]
  },
  {
   "cell_type": "code",
   "execution_count": 5,
   "id": "4e8ad673-1bb8-4a86-affa-d8d4bd04e525",
   "metadata": {},
   "outputs": [
    {
     "name": "stdout",
     "output_type": "stream",
     "text": [
      "tensor([ 0.0223, -1.3008,  0.5185], requires_grad=True)\n",
      "tensor([2.0223, 0.6992, 2.5185], grad_fn=<AddBackward0>)\n",
      "tensor([ 8.1795,  0.9779, 12.6858], grad_fn=<MulBackward0>)\n"
     ]
    }
   ],
   "source": [
    "x = torch.randn(3, requires_grad=True)  # requiresgrad makes z backward works\n",
    "print(x)\n",
    "\n",
    "y = x + 2\n",
    "print(y)\n",
    "\n",
    "z = y * y * 2\n",
    "print(z)\n",
    "\n",
    "z = z.mean()\n",
    "z\n",
    "\n",
    "z.backward()  # dz/dx\n"
   ]
  },
  {
   "cell_type": "code",
   "execution_count": 10,
   "id": "4ab99a76-2c20-4622-a618-10736d27a7a4",
   "metadata": {},
   "outputs": [
    {
     "name": "stdout",
     "output_type": "stream",
     "text": [
      "tensor([0.6704, 0.3328, 0.2494], requires_grad=True)\n",
      "tensor([0.6704, 0.3328, 0.2494])\n",
      "tensor([0.6704, 0.3328, 0.2494], requires_grad=True)\n",
      "tensor([0.6704, 0.3328, 0.2494])\n",
      "tensor([2.0223, 0.6992, 2.5185])\n"
     ]
    }
   ],
   "source": [
    "a = torch.randn(3, requires_grad=True)\n",
    "print(a)\n",
    "\n",
    "a.requires_grad_(False) # When there is a underline in the sufix of a torch method, it is saying that the result it's applying on the variable \n",
    "print(a)\n",
    "a.requires_grad_(True)\n",
    "print(a)\n",
    "b = a.detach()\n",
    "print(b)\n",
    "\n",
    "with torch.no_grad():\n",
    "    c = x + 2\n",
    "    print(c)"
   ]
  },
  {
   "cell_type": "code",
   "execution_count": 18,
   "id": "26b3226e-55bf-4ab6-b137-e8f9068631b0",
   "metadata": {},
   "outputs": [
    {
     "name": "stdout",
     "output_type": "stream",
     "text": [
      "tensor([3., 3., 3., 3.])\n",
      "tensor([3., 3., 3., 3.])\n",
      "tensor([3., 3., 3., 3.])\n"
     ]
    }
   ],
   "source": [
    "weights = torch.ones(4, requires_grad=True)\n",
    "\n",
    "for epoch in range(3):\n",
    "    model_output = (weights*3).sum()\n",
    "    model_output.backward()\n",
    "    print(weights.grad)\n",
    "\n",
    "    weights.grad.zero_()"
   ]
  },
  {
   "cell_type": "code",
   "execution_count": 21,
   "id": "2b87e1ca-2287-466b-9a40-35bd5da320e0",
   "metadata": {},
   "outputs": [],
   "source": [
    "weights = torch.ones(4, requires_grad=True)\n",
    "\n",
    "optimizer = torch.optim.SGD([weights], lr=0.01)\n",
    "optimizer.step()\n",
    "optimizer.zero_grad()"
   ]
  }
 ],
 "metadata": {
  "kernelspec": {
   "display_name": "Python 3 (ipykernel)",
   "language": "python",
   "name": "python3"
  },
  "language_info": {
   "codemirror_mode": {
    "name": "ipython",
    "version": 3
   },
   "file_extension": ".py",
   "mimetype": "text/x-python",
   "name": "python",
   "nbconvert_exporter": "python",
   "pygments_lexer": "ipython3",
   "version": "3.10.14"
  }
 },
 "nbformat": 4,
 "nbformat_minor": 5
}
