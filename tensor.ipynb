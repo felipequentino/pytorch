{
 "cells": [
  {
   "cell_type": "code",
   "execution_count": 74,
   "id": "a1e4d94a-732c-4756-8bb5-c37698c6a2b8",
   "metadata": {},
   "outputs": [],
   "source": [
    "import torch\n",
    "if torch.cuda.is_available():\n",
    "    device = torch.device(\"cuda\")\n",
    "    x = torch.ones(5, device=device)\n",
    "    y = torch.ones(5)\n",
    "    y = y.to(device)\n",
    "    z = x+y\n",
    "    # z.numpy() this gives a error, because numpy can only handle CPU tensors! \n",
    "    z = z.to(\"cpu\")\n",
    "    z.numpy() # now, it works!"
   ]
  },
  {
   "cell_type": "code",
   "execution_count": null,
   "id": "2a4454b0-fccf-48d2-87aa-ac07d120425e",
   "metadata": {},
   "outputs": [],
   "source": [
    "x = torch.empty(2, 2, 2, 3, 4)\n",
    "y = torch.ones(2, 2, dtype=torch.float16)\n",
    "y = torch.zeros(2, 2)\n",
    "a = y.dtype\n",
    "x.size()\n",
    "\n",
    "elem = torch.tensor([2.5, 1.1])\n",
    "rand = torch.rand(2, 2)\n",
    "# both are the same thing\n",
    "sum = elem + rand\n",
    "sum = torch.add(elem, rand)\n",
    "print(elem)\n",
    "elem.add(y) # the same for sub, mul, div"
   ]
  },
  {
   "cell_type": "code",
   "execution_count": 67,
   "id": "729c4f79-1b5a-4132-ae40-c9be7323254f",
   "metadata": {},
   "outputs": [
    {
     "name": "stdout",
     "output_type": "stream",
     "text": [
      "tensor([[0.5175, 0.3798, 0.4929],\n",
      "        [0.8544, 0.8964, 0.2010],\n",
      "        [0.1450, 0.0641, 0.3229],\n",
      "        [0.6447, 0.8096, 0.7482],\n",
      "        [0.9771, 0.1194, 0.2660]])\n",
      "tensor([0.5175, 0.3798, 0.4929])\n",
      "tensor([0.5175, 0.8544, 0.1450, 0.6447, 0.9771])\n",
      "tensor([0.1450, 0.0641, 0.3229])\n",
      "tensor(0.3229)\n",
      "0.3228512406349182\n"
     ]
    },
    {
     "data": {
      "text/plain": [
       "tensor([0.5175, 0.3798, 0.4929, 0.8544, 0.8964, 0.2010, 0.1450, 0.0641, 0.3229,\n",
       "        0.6447, 0.8096, 0.7482, 0.9771, 0.1194, 0.2660])"
      ]
     },
     "execution_count": 67,
     "metadata": {},
     "output_type": "execute_result"
    }
   ],
   "source": [
    "# getting the rows and columns\n",
    "p = torch.rand(5, 3)\n",
    "print(p)\n",
    "print(p[0,:]) # row 1\n",
    "print(p[:,0]) # column 1\n",
    "print(p[2,:]) # row 3\n",
    "\n",
    "print(p[2,2]) # getting only 1 \n",
    "print(p[2,2].item()) # this only works if the tensor only has ONE item \n",
    "\n",
    "q = p.view(15)\n",
    "q"
   ]
  },
  {
   "cell_type": "code",
   "execution_count": 71,
   "id": "1a3a65b0-9bed-4723-9811-d31e929a5cbf",
   "metadata": {},
   "outputs": [
    {
     "name": "stdout",
     "output_type": "stream",
     "text": [
      "<class 'torch.Tensor'>\n",
      "<class 'numpy.ndarray'>\n",
      "tensor([1., 1., 1., 1., 1.])\n",
      "[1. 1. 1. 1. 1.]\n",
      "<class 'numpy.ndarray'>\n",
      "<class 'torch.Tensor'>\n"
     ]
    }
   ],
   "source": [
    "# converting numpy to tensor / tensor to numpy\n",
    "import numpy as np\n",
    "\n",
    "a = torch.zeros(5)\n",
    "print(type(a))\n",
    "b = a.numpy()\n",
    "print(type(b))\n",
    "\n",
    "a.add_(1)\n",
    "print(a)\n",
    "print(b)\n",
    "# this give the same result because a and b point to the same location in the GPU \n",
    "\n",
    "c = np.ones(5)\n",
    "d = torch.from_numpy(c)\n",
    "print(type(c))\n",
    "print(type(d))"
   ]
  },
  {
   "cell_type": "code",
   "execution_count": 77,
   "id": "322a32d8-f415-49a9-be18-39dd4697cb83",
   "metadata": {},
   "outputs": [
    {
     "data": {
      "text/plain": [
       "tensor([1., 1., 1., 1., 1.], requires_grad=True)"
      ]
     },
     "execution_count": 77,
     "metadata": {},
     "output_type": "execute_result"
    }
   ],
   "source": [
    "# by default, requires_grad is False. This will tell torch that he will need\n",
    "# to calculate the gradient to this tensor later in the optimizations steps\n",
    "f = torch.ones(5, requires_grad=True)\n",
    "f"
   ]
  }
 ],
 "metadata": {
  "kernelspec": {
   "display_name": "Python 3 (ipykernel)",
   "language": "python",
   "name": "python3"
  },
  "language_info": {
   "codemirror_mode": {
    "name": "ipython",
    "version": 3
   },
   "file_extension": ".py",
   "mimetype": "text/x-python",
   "name": "python",
   "nbconvert_exporter": "python",
   "pygments_lexer": "ipython3",
   "version": "3.10.14"
  }
 },
 "nbformat": 4,
 "nbformat_minor": 5
}
