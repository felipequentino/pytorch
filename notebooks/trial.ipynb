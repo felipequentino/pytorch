{
 "cells": [
  {
   "cell_type": "code",
   "execution_count": 1,
   "id": "c38732a0-d435-4667-a17e-f6ef8c9a66f4",
   "metadata": {},
   "outputs": [],
   "source": [
    "import numpy as np\n",
    "import torch"
   ]
  },
  {
   "cell_type": "code",
   "execution_count": 26,
   "id": "7e8cdaa0-fc1a-4ec4-959b-c4e9badf0554",
   "metadata": {},
   "outputs": [],
   "source": [
    "X = np.array([1,2,3,4])\n",
    "Y = np.array([2,4,6,8])\n",
    "weight = 0\n",
    "learning_rate = 0.01"
   ]
  },
  {
   "cell_type": "code",
   "execution_count": 24,
   "id": "20918b93-26a9-44c9-88fb-c0ce934daf3b",
   "metadata": {},
   "outputs": [],
   "source": [
    "def forward(w, x):\n",
    "    y_predicted = (w*x)\n",
    "    return y_predicted\n",
    "\n",
    "def loss(y, y_predicted):\n",
    "    return ((y - y_predicted)**2).mean()\n",
    "\n",
    "def gradient(y, y_predicted, x):\n",
    "    return np.dot(2*x, y_predicted-y).mean()"
   ]
  },
  {
   "cell_type": "code",
   "execution_count": 27,
   "id": "b1d9705f-7152-4558-a8ba-045a9744a24c",
   "metadata": {},
   "outputs": [
    {
     "name": "stdout",
     "output_type": "stream",
     "text": [
      "epoch 10, weight = 1.9997902848\n",
      "epoch 20, weight = 1.9999999780097675\n",
      "epoch 30, weight = 1.999999999997694\n",
      "epoch 40, weight = 1.9999999999999998\n",
      "epoch 50, weight = 2.0\n",
      "epoch 60, weight = 2.0\n",
      "epoch 70, weight = 2.0\n",
      "epoch 80, weight = 2.0\n",
      "epoch 90, weight = 2.0\n",
      "epoch 100, weight = 2.0\n"
     ]
    }
   ],
   "source": [
    "num_epochs = 100\n",
    "for epoch in range(num_epochs):\n",
    "    y_hat = forward(w=weight, x=X)\n",
    "\n",
    "    l = loss(y=Y, y_predicted=y_hat)\n",
    "\n",
    "    gw = gradient(Y, y_hat, X)\n",
    "    weight -= learning_rate * gw   \n",
    "    \n",
    "    if (epoch+1) % 10 == 0:\n",
    "        print(f'epoch {epoch+1}, weight = {weight}')"
   ]
  },
  {
   "cell_type": "code",
   "execution_count": null,
   "id": "ad2a3f1b-13e1-401d-9d1a-913fb8cf0e76",
   "metadata": {},
   "outputs": [],
   "source": []
  }
 ],
 "metadata": {
  "kernelspec": {
   "display_name": "Python 3 (ipykernel)",
   "language": "python",
   "name": "python3"
  },
  "language_info": {
   "codemirror_mode": {
    "name": "ipython",
    "version": 3
   },
   "file_extension": ".py",
   "mimetype": "text/x-python",
   "name": "python",
   "nbconvert_exporter": "python",
   "pygments_lexer": "ipython3",
   "version": "3.10.14"
  }
 },
 "nbformat": 4,
 "nbformat_minor": 5
}
